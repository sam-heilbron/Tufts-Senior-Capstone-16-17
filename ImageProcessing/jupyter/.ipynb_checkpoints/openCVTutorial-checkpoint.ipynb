{
 "cells": [
  {
   "cell_type": "code",
   "execution_count": 2,
   "metadata": {
    "collapsed": false
   },
   "outputs": [],
   "source": [
    "import numpy as np\n",
    "import cv2\n",
    "from matplotlib import pyplot as plt"
   ]
  },
  {
   "cell_type": "code",
   "execution_count": 3,
   "metadata": {
    "collapsed": false
   },
   "outputs": [],
   "source": [
    "## Simple Constants\n",
    "\n",
    "GREEN = (0,255,0)\n",
    "\n",
    "# All the 6 methods for comparison in a list\n",
    "# **NOTE** \n",
    "#    TM_CCORR didn't find image\n",
    "#    all others did\n",
    "METHODS = ['cv2.TM_CCOEFF', 'cv2.TM_CCOEFF_NORMED', 'cv2.TM_CCORR',\n",
    "            'cv2.TM_CCORR_NORMED', 'cv2.TM_SQDIFF', 'cv2.TM_SQDIFF_NORMED']\n",
    "\n",
    "WORKSHEET = 'images/worksheet_with_empty_name.jpg'\n",
    "WORKSHEET_WITH_NAME = 'images/worksheet_with_name.jpg'\n",
    "WORKSHEET_NAME_LABEL = 'images/name_label.jpg'\n",
    "WORKSHEET_NAME_AND_LINE = 'images/name_label_and_line.jpg'\n",
    "\n"
   ]
  },
  {
   "cell_type": "code",
   "execution_count": 4,
   "metadata": {
    "collapsed": false
   },
   "outputs": [],
   "source": [
    "# Load an color image in grayscale\n",
    "worksheetImg = cv2.imread(WORKSHEET,0)\n",
    "worksheetImg2 = cv2.imread(WORKSHEET)\n",
    "worksheetWithNameImg = cv2.imread(WORKSHEET_WITH_NAME,0)\n",
    "nameTemplate = cv2.imread(WORKSHEET_NAME_LABEL,0)\n",
    "namePlusLineTemplate = cv2.imread(WORKSHEET_NAME_AND_LINE,0)"
   ]
  },
  {
   "cell_type": "code",
   "execution_count": 5,
   "metadata": {
    "collapsed": true
   },
   "outputs": [],
   "source": [
    "\n",
    "#plt.imshow(img, cmap = 'gray', interpolation = 'bicubic')\n",
    "#plt.xticks([]), plt.yticks([])  # to hide tick values on X and Y axis\n",
    "#plt.show()"
   ]
  },
  {
   "cell_type": "code",
   "execution_count": 6,
   "metadata": {
    "collapsed": false
   },
   "outputs": [],
   "source": [
    "def findTemplate(image, template, borderColor, displayYN):\n",
    "\n",
    "    w,h = template.shape[::-1]\n",
    "    \n",
    "    for meth in METHODS:\n",
    "        img = image.copy()\n",
    "        method = eval(meth)\n",
    "\n",
    "        # Apply template Matching\n",
    "        res = cv2.matchTemplate(img,template,method)\n",
    "        min_val, max_val, min_loc, max_loc = cv2.minMaxLoc(res)\n",
    "\n",
    "        # If the method is TM_SQDIFF or TM_SQDIFF_NORMED, take minimum\n",
    "        if method in [cv2.TM_SQDIFF, cv2.TM_SQDIFF_NORMED]:\n",
    "            top_left = min_loc\n",
    "        else:\n",
    "            top_left = max_loc\n",
    "        bottom_right = (top_left[0] + w, top_left[1] + h)\n",
    "        \n",
    "\n",
    "\n",
    "        # Alter image to put green box around template\n",
    "        \n",
    "        # examle of adjusted coordinates: top_left = (0,0)\n",
    "        #top_left = (0,0)\n",
    "        cv2.rectangle(img,top_left, bottom_right, borderColor, 2)\n",
    "\n",
    "        plt.subplot(121),plt.imshow(res,cmap = 'gray')\n",
    "        plt.title('Matching Result'), plt.xticks([]), plt.yticks([])\n",
    "        plt.subplot(122),plt.imshow(img,cmap = 'gray')\n",
    "        plt.title('Detected Point'), plt.xticks([]), plt.yticks([])\n",
    "        plt.suptitle(meth)\n",
    "\n",
    "        if displayYN:\n",
    "            plt.show()"
   ]
  },
  {
   "cell_type": "code",
   "execution_count": null,
   "metadata": {
    "collapsed": false
   },
   "outputs": [],
   "source": [
    "findTemplate(worksheetImg, nameTemplate, GREEN, True)"
   ]
  },
  {
   "cell_type": "code",
   "execution_count": null,
   "metadata": {
    "collapsed": false
   },
   "outputs": [],
   "source": [
    "findTemplate(worksheetImg, namePlusLineTemplate, GREEN, True)"
   ]
  },
  {
   "cell_type": "code",
   "execution_count": null,
   "metadata": {
    "collapsed": false
   },
   "outputs": [],
   "source": [
    "findTemplate(worksheetWithNameImg, namePlusLineTemplate, GREEN, True)"
   ]
  },
  {
   "cell_type": "code",
   "execution_count": 9,
   "metadata": {
    "collapsed": true
   },
   "outputs": [],
   "source": [
    "def border_words(img ):\n",
    "    img_final = img\n",
    "    img2gray = cv2.cvtColor(img,cv2.COLOR_BGR2GRAY)\n",
    "    ret, mask = cv2.threshold(img2gray, 180, 255, cv2.THRESH_BINARY)\n",
    "    image_final = cv2.bitwise_and(img2gray , img2gray , mask =  mask)\n",
    "    ret, new_img = cv2.threshold(image_final, 180 , 255, cv2.THRESH_BINARY_INV)  # for black text , cv.THRESH_BINARY_INV\n",
    "    '''\n",
    "            line  8 to 12  : Remove noisy portion \n",
    "    '''\n",
    "    kernel = cv2.getStructuringElement(cv2.MORPH_CROSS,(3 , 3)) # to manipulate the orientation of dilution , large x means horizonatally dilating  more, large y means vertically dilating more \n",
    "    dilated = cv2.dilate(new_img,kernel,iterations = 9) # dilate , more the iteration more the dilation\n",
    "\n",
    "    image_, contours, hierarchy = cv2.findContours(dilated,cv2.RETR_EXTERNAL,cv2.CHAIN_APPROX_NONE) # get contours\n",
    "    index = 0 \n",
    "    for contour in contours:\n",
    "        # get rectangle bounding contour\n",
    "        [x,y,w,h] = cv2.boundingRect(contour)\n",
    "\n",
    "        #Don't plot small false positives that aren't text\n",
    "        if w < 35 and h<35:\n",
    "            continue\n",
    "\n",
    "        # draw rectangle around contour on original image\n",
    "        cv2.rectangle(img,(x,y),(x+w,y+h),(255,0,255),2)\n",
    "\n",
    "        '''\n",
    "        #you can crop image and send to OCR  , false detected will return no text :)\n",
    "        cropped = img_final[y :y +  h , x : x + w]\n",
    "\n",
    "        s = file_name + '/crop_' + str(index) + '.jpg' \n",
    "        cv2.imwrite(s , cropped)\n",
    "        index = index + 1\n",
    "\n",
    "        '''\n",
    "    # write original image with added contours to disk  \n",
    "    cv2.imshow('captcha_result' , img)"
   ]
  },
  {
   "cell_type": "code",
   "execution_count": 10,
   "metadata": {
    "collapsed": false
   },
   "outputs": [
    {
     "ename": "AttributeError",
     "evalue": "'numpy.ndarray' object has no attribute 'show'",
     "output_type": "error",
     "traceback": [
      "\u001b[0;31m---------------------------------------------------------------------------\u001b[0m",
      "\u001b[0;31mAttributeError\u001b[0m                            Traceback (most recent call last)",
      "\u001b[0;32m<ipython-input-10-5dc6cc83bcdd>\u001b[0m in \u001b[0;36m<module>\u001b[0;34m()\u001b[0m\n\u001b[0;32m----> 1\u001b[0;31m \u001b[0mborder_words\u001b[0m\u001b[0;34m(\u001b[0m\u001b[0mworksheetImg2\u001b[0m\u001b[0;34m)\u001b[0m\u001b[0;34m\u001b[0m\u001b[0m\n\u001b[0m",
      "\u001b[0;32m<ipython-input-9-49af70d33967>\u001b[0m in \u001b[0;36mborder_words\u001b[0;34m(img)\u001b[0m\n\u001b[1;32m     33\u001b[0m \u001b[0;34m\u001b[0m\u001b[0m\n\u001b[1;32m     34\u001b[0m         '''\n\u001b[0;32m---> 35\u001b[0;31m     \u001b[0mimg\u001b[0m\u001b[0;34m.\u001b[0m\u001b[0mshow\u001b[0m\u001b[0;34m(\u001b[0m\u001b[0;34m)\u001b[0m\u001b[0;34m\u001b[0m\u001b[0m\n\u001b[0m\u001b[1;32m     36\u001b[0m     \u001b[0;31m# write original image with added contours to disk\u001b[0m\u001b[0;34m\u001b[0m\u001b[0;34m\u001b[0m\u001b[0m\n\u001b[1;32m     37\u001b[0m     \u001b[0mcv2\u001b[0m\u001b[0;34m.\u001b[0m\u001b[0mimshow\u001b[0m\u001b[0;34m(\u001b[0m\u001b[0;34m'captcha_result'\u001b[0m \u001b[0;34m,\u001b[0m \u001b[0mimg\u001b[0m\u001b[0;34m)\u001b[0m\u001b[0;34m\u001b[0m\u001b[0m\n",
      "\u001b[0;31mAttributeError\u001b[0m: 'numpy.ndarray' object has no attribute 'show'"
     ]
    }
   ],
   "source": [
    "border_words(worksheetImg2)"
   ]
  },
  {
   "cell_type": "code",
   "execution_count": null,
   "metadata": {
    "collapsed": true
   },
   "outputs": [],
   "source": []
  }
 ],
 "metadata": {
  "anaconda-cloud": {},
  "kernelspec": {
   "display_name": "Python [default]",
   "language": "python",
   "name": "python3"
  },
  "language_info": {
   "codemirror_mode": {
    "name": "ipython",
    "version": 3
   },
   "file_extension": ".py",
   "mimetype": "text/x-python",
   "name": "python",
   "nbconvert_exporter": "python",
   "pygments_lexer": "ipython3",
   "version": "3.5.2"
  }
 },
 "nbformat": 4,
 "nbformat_minor": 0
}
